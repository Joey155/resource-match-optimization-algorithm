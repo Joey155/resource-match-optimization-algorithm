{
 "cells": [
  {
   "cell_type": "code",
   "execution_count": 12,
   "metadata": {},
   "outputs": [],
   "source": [
    "from generator import generate_Random_LatLong_Within_RectArea,randomFacilitiesGenerator, randomRequestGenerator,randomInventoryGenerator,getRandomFacilityName\n",
    "import matplotlib.pyplot as plt"
   ]
  },
  {
   "cell_type": "code",
   "execution_count": 13,
   "metadata": {},
   "outputs": [
    {
     "name": "stdout",
     "output_type": "stream",
     "text": [
      "[[1.41515318 0.19386602]\n",
      " [1.12634895 0.91116088]\n",
      " [1.84309407 0.06639687]\n",
      " [1.68348711 0.71584497]\n",
      " [1.92785435 0.79139123]]\n"
     ]
    },
    {
     "data": {
      "text/plain": [
       "<matplotlib.collections.PathCollection at 0x1127fae50>"
      ]
     },
     "execution_count": 13,
     "metadata": {},
     "output_type": "execute_result"
    },
    {
     "data": {
      "image/png": "[encoded data removed]",
      "text/plain": [
       "<Figure size 432x288 with 1 Axes>"
      ]
     },
     "metadata": {
      "needs_background": "light"
     },
     "output_type": "display_data"
    }
   ],
   "source": [
    "coords = generate_Random_LatLong_Within_RectArea(5,(0,1),(1,2))\n",
    "print(coords)\n",
    "latitudes,longitudes = coords[:,1],coords[:,0]\n",
    "plt.scatter(latitudes,longitudes)"
   ]
  },
  {
   "cell_type": "code",
   "execution_count": 14,
   "metadata": {},
   "outputs": [
    {
     "data": {
      "text/plain": [
       "{'masks': 65, 'ventilators': 90, 'testing kits': 53}"
      ]
     },
     "execution_count": 14,
     "metadata": {},
     "output_type": "execute_result"
    }
   ],
   "source": [
    "items = [\"masks\",\"ventilators\",\"testing kits\"]\n",
    "randomRequestGenerator(items)"
   ]
  },
  {
   "cell_type": "code",
   "execution_count": 15,
   "metadata": {},
   "outputs": [
    {
     "data": {
      "text/plain": [
       "[{'name': 'masks', 'unit_price': 107, 'quantity': 59},\n",
       " {'name': 'ventilators', 'unit_price': 144, 'quantity': 76},\n",
       " {'name': 'testing kits', 'unit_price': 167, 'quantity': 53}]"
      ]
     },
     "execution_count": 15,
     "metadata": {},
     "output_type": "execute_result"
    }
   ],
   "source": [
    "randomInventoryGenerator(items)"
   ]
  },
  {
   "cell_type": "code",
   "execution_count": 16,
   "metadata": {},
   "outputs": [
    {
     "data": {
      "text/plain": [
       "[{'name': 'Melissa Torres memorial hospital',\n",
       "  'location': array([0.33526804, 0.25812116]),\n",
       "  'requests': {'masks': 59, 'ventilators': 91, 'testing kits': 98},\n",
       "  'carrying_capacity': 193,\n",
       "  'covid_testing_available': False,\n",
       "  'type': 'hospital',\n",
       "  'covid_patient_count': 122},\n",
       " {'name': 'Austin Jones memorial hospital',\n",
       "  'location': array([0.03185561, 0.45680473]),\n",
       "  'requests': {'masks': 65, 'ventilators': 56, 'testing kits': 79},\n",
       "  'carrying_capacity': 177,\n",
       "  'covid_testing_available': False,\n",
       "  'type': 'clinic',\n",
       "  'covid_patient_count': 136},\n",
       " {'name': 'Michael Rice memorial hospital',\n",
       "  'location': array([0.92809266, 0.03125138]),\n",
       "  'requests': {'masks': 57, 'ventilators': 85, 'testing kits': 83},\n",
       "  'carrying_capacity': 184,\n",
       "  'covid_testing_available': True,\n",
       "  'type': 'clinic',\n",
       "  'covid_patient_count': 133},\n",
       " {'name': 'Samuel Bowen memorial hospital',\n",
       "  'location': array([0.32484321, 0.4330824 ]),\n",
       "  'requests': {'masks': 73, 'ventilators': 80, 'testing kits': 72},\n",
       "  'carrying_capacity': 143,\n",
       "  'covid_testing_available': True,\n",
       "  'type': 'pharmacy',\n",
       "  'covid_patient_count': 86},\n",
       " {'name': 'Dustin Jones memorial hospital',\n",
       "  'location': array([0.32787705, 0.43315968]),\n",
       "  'requests': {'masks': 85, 'ventilators': 85, 'testing kits': 80},\n",
       "  'carrying_capacity': 103,\n",
       "  'covid_testing_available': False,\n",
       "  'type': 'clinic',\n",
       "  'covid_patient_count': 35},\n",
       " {'name': 'Marvin Baker memorial hospital',\n",
       "  'location': array([0.41713186, 0.95118766]),\n",
       "  'requests': {'masks': 65, 'ventilators': 70, 'testing kits': 55},\n",
       "  'carrying_capacity': 196,\n",
       "  'covid_testing_available': True,\n",
       "  'type': 'hospital',\n",
       "  'covid_patient_count': 128},\n",
       " {'name': 'Jacob Calderon memorial hospital',\n",
       "  'location': array([0.92123414, 0.4056458 ]),\n",
       "  'requests': {'masks': 68, 'ventilators': 68, 'testing kits': 52},\n",
       "  'carrying_capacity': 102,\n",
       "  'covid_testing_available': True,\n",
       "  'type': 'pharmacy',\n",
       "  'covid_patient_count': 21},\n",
       " {'name': 'Felicia Ramsey memorial hospital',\n",
       "  'location': array([0.57942347, 0.62772543]),\n",
       "  'requests': {'masks': 64, 'ventilators': 93, 'testing kits': 71},\n",
       "  'carrying_capacity': 92,\n",
       "  'covid_testing_available': False,\n",
       "  'type': 'hospital',\n",
       "  'covid_patient_count': 32},\n",
       " {'name': 'Jamie Humphrey memorial hospital',\n",
       "  'location': array([0.3191302 , 0.70674525]),\n",
       "  'requests': {'masks': 56, 'ventilators': 73, 'testing kits': 97},\n",
       "  'carrying_capacity': 110,\n",
       "  'covid_testing_available': False,\n",
       "  'type': 'hospital',\n",
       "  'covid_patient_count': 43},\n",
       " {'name': 'Anthony Mullins memorial hospital',\n",
       "  'location': array([0.37384494, 0.47124258]),\n",
       "  'requests': {'masks': 67, 'ventilators': 82, 'testing kits': 88},\n",
       "  'carrying_capacity': 124,\n",
       "  'covid_testing_available': True,\n",
       "  'type': 'clinic',\n",
       "  'covid_patient_count': 31}]"
      ]
     },
     "execution_count": 16,
     "metadata": {},
     "output_type": "execute_result"
    }
   ],
   "source": [
    "randomFacilitiesGenerator(10,(0,1),(0,1))"
   ]
  },
  {
   "cell_type": "code",
   "execution_count": null,
   "metadata": {},
   "outputs": [],
   "source": []
  }
 ],
 "metadata": {
  "kernelspec": {
   "display_name": "Python 3",
   "language": "python",
   "name": "python3"
  },
  "language_info": {
   "codemirror_mode": {
    "name": "ipython",
    "version": 3
   },
   "file_extension": ".py",
   "mimetype": "text/x-python",
   "name": "python",
   "nbconvert_exporter": "python",
   "pygments_lexer": "ipython3",
   "version": "3.7.6"
  }
 },
 "nbformat": 4,
 "nbformat_minor": 2
}
